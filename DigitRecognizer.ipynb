{
 "cells": [
  {
   "cell_type": "code",
   "execution_count": 1,
   "metadata": {},
   "outputs": [
    {
     "name": "stderr",
     "output_type": "stream",
     "text": [
      "Using TensorFlow backend.\n"
     ]
    }
   ],
   "source": [
    "import pandas as pd\n",
    "import numpy as np\n",
    "import matplotlib.pyplot as plt\n",
    "from sklearn.model_selection import train_test_split\n",
    "from sklearn.metrics import confusion_matrix\n",
    "\n",
    "import keras\n",
    "from keras.models import Sequential\n",
    "from keras.layers import Dense, Dropout, Activation, Flatten\n",
    "from keras.layers import Conv2D, MaxPooling2D, BatchNormalization\n",
    "from keras.utils import print_summary, to_categorical, np_utils"
   ]
  },
  {
   "cell_type": "code",
   "execution_count": 2,
   "metadata": {},
   "outputs": [],
   "source": [
    "#In this case the images are in a excel sheet with a pixel of value 1 or 0\n",
    "trainImages = pd.read_csv(\"train.csv\", delimiter=',')\n",
    "testImages = pd.read_csv(\"test.csv\", delimiter=',')"
   ]
  },
  {
   "cell_type": "markdown",
   "metadata": {},
   "source": [
    "The images we are 28*28 pixels giving us 784 columns and the last column labels is what number they are"
   ]
  },
  {
   "cell_type": "code",
   "execution_count": 3,
   "metadata": {},
   "outputs": [
    {
     "data": {
      "text/plain": [
       "(42000, 785)"
      ]
     },
     "execution_count": 3,
     "metadata": {},
     "output_type": "execute_result"
    }
   ],
   "source": [
    "trainImages.shape"
   ]
  },
  {
   "cell_type": "code",
   "execution_count": 4,
   "metadata": {},
   "outputs": [],
   "source": [
    "#split the images and labels into x and y respectively \n",
    "trainImagesX = trainImages.drop(['label'], axis=1)\n",
    "trainImagesY = trainImages['label']"
   ]
  },
  {
   "cell_type": "markdown",
   "metadata": {},
   "source": [
    "## Split the data"
   ]
  },
  {
   "cell_type": "markdown",
   "metadata": {},
   "source": [
    "Creating a validation set with a small portion of the data"
   ]
  },
  {
   "cell_type": "code",
   "execution_count": 5,
   "metadata": {},
   "outputs": [],
   "source": [
    "newTrainImagesX, validationImagesX, newTrainLabelsY, validationLabelsY = train_test_split(trainImagesX, trainImagesY, train_size = 0.9, test_size = 0.1, random_state = 0)"
   ]
  },
  {
   "cell_type": "markdown",
   "metadata": {},
   "source": [
    "## Normalize"
   ]
  },
  {
   "cell_type": "markdown",
   "metadata": {},
   "source": [
    "The most common pixel format is the byte image, where this number is stored as an 8-bit integer giving a range of possible values from 0 to 255. Typically zero is taken to be black, and 255 is taken to be white. Values in between make up the different shades of gray.\n",
    "We perform a greyscale normlization to reduce the effect of illumination's differences, Moreover the CNN converge faster on [0..1] data than on [0..255]"
   ]
  },
  {
   "cell_type": "code",
   "execution_count": 6,
   "metadata": {},
   "outputs": [],
   "source": [
    "newTrainImagesX = (newTrainImagesX/255.0)\n",
    "validationImagesX = (validationImagesX/255.0)\n",
    "testImages = (testImages/255.0)"
   ]
  },
  {
   "cell_type": "markdown",
   "metadata": {},
   "source": [
    "## Reshape"
   ]
  },
  {
   "cell_type": "markdown",
   "metadata": {},
   "source": [
    "Train and test images (28px * 28px) has been stock into pandas.Dataframe as 1D vectors of 784 values. We reshape all data to 28x28x1 3D matrices.\n",
    "\n",
    "Keras requires an extra dimension in the end which correspond to channels. MNIST images are gray scaled so it use only one channel. For RGB images, there is 3 channels, we would have reshaped 784px vectors to 28x28x3 3D matrices."
   ]
  },
  {
   "cell_type": "code",
   "execution_count": 7,
   "metadata": {},
   "outputs": [],
   "source": [
    "#Reshape image in 3 dimensions (height = 28px, width = 28px , canal = 1)\n",
    "newTrainImagesX = newTrainImagesX.values.reshape(-1,28,28,1)\n",
    "validationImagesX = validationImagesX.values.reshape(-1,28,28,1)\n",
    "testImages = testImages.values.reshape(-1,28,28,1)"
   ]
  },
  {
   "cell_type": "code",
   "execution_count": 8,
   "metadata": {},
   "outputs": [
    {
     "data": {
      "image/png": "[encoded data removed]",
      "text/plain": [
       "<Figure size 432x288 with 1 Axes>"
      ]
     },
     "metadata": {
      "needs_background": "light"
     },
     "output_type": "display_data"
    }
   ],
   "source": [
    "# Some examples\n",
    "g = plt.imshow(newTrainImagesX[10][:,:,0])"
   ]
  },
  {
   "cell_type": "markdown",
   "metadata": {},
   "source": [
    "## Label Encoding"
   ]
  },
  {
   "cell_type": "code",
   "execution_count": 9,
   "metadata": {},
   "outputs": [],
   "source": [
    "# Encode labels to one hot vectors (ex : 2 -> [0,0,1,0,0,0,0,0,0,0])\n",
    "newTrainLabelsY = to_categorical(newTrainLabelsY, num_classes = 10)\n",
    "validationLabelsY = to_categorical(validationLabelsY, num_classes = 10)"
   ]
  },
  {
   "cell_type": "markdown",
   "metadata": {},
   "source": [
    "## CNN"
   ]
  },
  {
   "cell_type": "markdown",
   "metadata": {},
   "source": [
    "I used the Keras Sequential API, where you have just to add one layer at a time, starting from the input.\n",
    "\n",
    "The first is the convolutional (Conv2D) layer. The purpose of convolution is to extract features from the input image. Convolution preserves the spatial relationship between pixels by learning image features using small squares of input data.\n",
    "Stride is the number of pixels by which we slide our filter matrix over the input.\n",
    "kernel_size, an integer or tuple/list of 2 integers, specifying the height and width of the 2D convolution window.\n",
    "The CNN can isolate features that are useful everywhere from these transformed images (feature maps).\n",
    "\n",
    "ReLU stands for Rectified Linear Unit and is a non-linear operation. ReLU is an element wise operation (applied per pixel) and replaces all negative pixel values in the feature map by zero. The purpose of ReLU is to introduce non-linearity in our ConvNet, since most of the real-world data we would want our ConvNet to learn would be non-linear (note that convolution is a linear operation – element wise matrix multiplication and addition). \n",
    "\n",
    "Spatial Pooling (also called subsampling or downsampling) reduces the dimensionality of each feature map but retains the most important information. Spatial Pooling can be of different types: Max, Average, Sum etc.\n",
    "\n",
    "The Flatten layer is use to convert the final feature maps into a one single 1D vector. This flattening step is needed so that you can make use of fully connected layers after some convolutional/maxpool layers. It combines all the found local features of the previous convolutional layers.\n",
    "\n",
    "The CNN made here is the AlexNet which won the 2012 ImageNet 2012 competition by a larger margin, 15.3%(first) vs 26.2%(second) error rate."
   ]
  },
  {
   "cell_type": "code",
   "execution_count": 10,
   "metadata": {},
   "outputs": [],
   "source": [
    "numClasses = newTrainLabelsY.shape[1]"
   ]
  },
  {
   "cell_type": "code",
   "execution_count": 11,
   "metadata": {},
   "outputs": [],
   "source": [
    "model = Sequential()\n",
    "#Convolutional input layer, 28 feature maps with a size 2x2, a rectifier activation function\n",
    "model.add(Conv2D(48, (3,3), strides = (2,2), input_shape=(28,28,1), activation='relu', padding='same'))\n",
    "model.add(MaxPooling2D(pool_size=(2, 2), strides=(2,2)))\n",
    "# Local Response normalization for Original Alexnet\n",
    "model.add(BatchNormalization())\n",
    "\n",
    "model.add(Conv2D(96, (3,3), activation='relu', padding='same'))\n",
    "model.add(MaxPooling2D(pool_size=(3, 3), strides=(2,2)))\n",
    "# Local Response normalization for Original Alexnet\n",
    "model.add(BatchNormalization())\n",
    "\n",
    "model.add(Conv2D(192, (3,3), activation='relu', padding='same'))\n",
    "model.add(Conv2D(192, (3,3), activation='relu', padding='same'))\n",
    "model.add(Conv2D(256, (3,3), activation='relu', padding='same'))\n",
    "model.add(MaxPooling2D(pool_size=(3, 3), strides=(2,2)))\n",
    "# Local Response normalization for Original Alexnet\n",
    "model.add(BatchNormalization())\n",
    "\n",
    "model.add(Flatten())\n",
    "model.add(Dense(512, activation='tanh'))\n",
    "model.add(Dropout(0.5))\n",
    "model.add(Dense(256, activation='tanh'))\n",
    "model.add(Dropout(0.5))\n",
    "model.add(Dense(10, activation='softmax'))"
   ]
  },
  {
   "cell_type": "code",
   "execution_count": 12,
   "metadata": {},
   "outputs": [],
   "source": [
    "model.compile(loss='categorical_crossentropy', optimizer='Adam',metrics=['accuracy'])"
   ]
  },
  {
   "cell_type": "code",
   "execution_count": 13,
   "metadata": {},
   "outputs": [
    {
     "name": "stdout",
     "output_type": "stream",
     "text": [
      "Train on 30240 samples, validate on 7560 samples\n",
      "Epoch 1/50\n",
      "30240/30240 [==============================] - 44s 1ms/step - loss: 0.2375 - acc: 0.9279 - val_loss: 0.1507 - val_acc: 0.9582\n",
      "Epoch 2/50\n",
      "30240/30240 [==============================] - 43s 1ms/step - loss: 0.1071 - acc: 0.9705 - val_loss: 0.1030 - val_acc: 0.9694\n",
      "Epoch 3/50\n",
      "30240/30240 [==============================] - 43s 1ms/step - loss: 0.0750 - acc: 0.9797 - val_loss: 0.1130 - val_acc: 0.9735\n",
      "Epoch 4/50\n",
      "30240/30240 [==============================] - 43s 1ms/step - loss: 0.0645 - acc: 0.9814 - val_loss: 0.0916 - val_acc: 0.9759\n",
      "Epoch 5/50\n",
      "30240/30240 [==============================] - 43s 1ms/step - loss: 0.0571 - acc: 0.9837 - val_loss: 0.0870 - val_acc: 0.9770\n",
      "Epoch 6/50\n",
      "30240/30240 [==============================] - 43s 1ms/step - loss: 0.0476 - acc: 0.9865 - val_loss: 0.0773 - val_acc: 0.9816\n",
      "Epoch 7/50\n",
      "30240/30240 [==============================] - 43s 1ms/step - loss: 0.0472 - acc: 0.9874 - val_loss: 0.0928 - val_acc: 0.9780\n",
      "Epoch 8/50\n",
      "30240/30240 [==============================] - 42s 1ms/step - loss: 0.0377 - acc: 0.9901 - val_loss: 0.0871 - val_acc: 0.9803\n",
      "Epoch 9/50\n",
      "30240/30240 [==============================] - 43s 1ms/step - loss: 0.0303 - acc: 0.9911 - val_loss: 0.0991 - val_acc: 0.9766\n",
      "Epoch 10/50\n",
      "30240/30240 [==============================] - 43s 1ms/step - loss: 0.0352 - acc: 0.9898 - val_loss: 0.0851 - val_acc: 0.9806\n",
      "Epoch 11/50\n",
      "30240/30240 [==============================] - 43s 1ms/step - loss: 0.0303 - acc: 0.9922 - val_loss: 0.0592 - val_acc: 0.9870\n",
      "Epoch 12/50\n",
      "30240/30240 [==============================] - 42s 1ms/step - loss: 0.0269 - acc: 0.9925 - val_loss: 0.0787 - val_acc: 0.9837\n",
      "Epoch 13/50\n",
      "30240/30240 [==============================] - 42s 1ms/step - loss: 0.0260 - acc: 0.9930 - val_loss: 0.0814 - val_acc: 0.9828\n",
      "Epoch 14/50\n",
      "30240/30240 [==============================] - 42s 1ms/step - loss: 0.0247 - acc: 0.9937 - val_loss: 0.0493 - val_acc: 0.9881\n",
      "Epoch 15/50\n",
      "30240/30240 [==============================] - 42s 1ms/step - loss: 0.0225 - acc: 0.9945 - val_loss: 0.0665 - val_acc: 0.9874\n",
      "Epoch 16/50\n",
      "30240/30240 [==============================] - 42s 1ms/step - loss: 0.0219 - acc: 0.9945 - val_loss: 0.1041 - val_acc: 0.9798\n",
      "Epoch 17/50\n",
      "30240/30240 [==============================] - 42s 1ms/step - loss: 0.0187 - acc: 0.9952 - val_loss: 0.0820 - val_acc: 0.9854\n",
      "Epoch 18/50\n",
      "30240/30240 [==============================] - 43s 1ms/step - loss: 0.0208 - acc: 0.9942 - val_loss: 0.0778 - val_acc: 0.9872\n",
      "Epoch 19/50\n",
      "30240/30240 [==============================] - 43s 1ms/step - loss: 0.0153 - acc: 0.9958 - val_loss: 0.0797 - val_acc: 0.9843\n",
      "Epoch 20/50\n",
      "30240/30240 [==============================] - 43s 1ms/step - loss: 0.0152 - acc: 0.9962 - val_loss: 0.0782 - val_acc: 0.9858\n",
      "Epoch 21/50\n",
      "30240/30240 [==============================] - 43s 1ms/step - loss: 0.0140 - acc: 0.9962 - val_loss: 0.0835 - val_acc: 0.9854\n",
      "Epoch 22/50\n",
      "30240/30240 [==============================] - 43s 1ms/step - loss: 0.0172 - acc: 0.9956 - val_loss: 0.1665 - val_acc: 0.9731\n",
      "Epoch 23/50\n",
      "30240/30240 [==============================] - 43s 1ms/step - loss: 0.0145 - acc: 0.9962 - val_loss: 0.0721 - val_acc: 0.9885\n",
      "Epoch 24/50\n",
      "30240/30240 [==============================] - 43s 1ms/step - loss: 0.0133 - acc: 0.9967 - val_loss: 0.1049 - val_acc: 0.9844\n",
      "Epoch 25/50\n",
      "30240/30240 [==============================] - 43s 1ms/step - loss: 0.0181 - acc: 0.9954 - val_loss: 0.1070 - val_acc: 0.9829\n",
      "Epoch 26/50\n",
      "30240/30240 [==============================] - 43s 1ms/step - loss: 0.0126 - acc: 0.9969 - val_loss: 0.0734 - val_acc: 0.9876\n",
      "Epoch 27/50\n",
      "30240/30240 [==============================] - 43s 1ms/step - loss: 0.0119 - acc: 0.9970 - val_loss: 0.0718 - val_acc: 0.9878\n",
      "Epoch 28/50\n",
      "30240/30240 [==============================] - 43s 1ms/step - loss: 0.0136 - acc: 0.9964 - val_loss: 0.1014 - val_acc: 0.9860\n",
      "Epoch 29/50\n",
      "30240/30240 [==============================] - 43s 1ms/step - loss: 0.0114 - acc: 0.9973 - val_loss: 0.0873 - val_acc: 0.9869\n",
      "Epoch 30/50\n",
      "30240/30240 [==============================] - 44s 1ms/step - loss: 0.0121 - acc: 0.9969 - val_loss: 0.1183 - val_acc: 0.9813\n",
      "Epoch 31/50\n",
      "30240/30240 [==============================] - 43s 1ms/step - loss: 0.0121 - acc: 0.9973 - val_loss: 0.0959 - val_acc: 0.9847\n",
      "Epoch 32/50\n",
      "30240/30240 [==============================] - 43s 1ms/step - loss: 0.0101 - acc: 0.9974 - val_loss: 0.0946 - val_acc: 0.9881\n",
      "Epoch 33/50\n",
      "30240/30240 [==============================] - 43s 1ms/step - loss: 0.0125 - acc: 0.9966 - val_loss: 0.0993 - val_acc: 0.9860\n",
      "Epoch 34/50\n",
      "30240/30240 [==============================] - 45s 1ms/step - loss: 0.0088 - acc: 0.9976 - val_loss: 0.0868 - val_acc: 0.9888\n",
      "Epoch 35/50\n",
      "30240/30240 [==============================] - 44s 1ms/step - loss: 0.0085 - acc: 0.9975 - val_loss: 0.0908 - val_acc: 0.9878\n",
      "Epoch 36/50\n",
      "30240/30240 [==============================] - 44s 1ms/step - loss: 0.0099 - acc: 0.9976 - val_loss: 0.0830 - val_acc: 0.9885\n",
      "Epoch 37/50\n",
      "30240/30240 [==============================] - 46s 2ms/step - loss: 0.0116 - acc: 0.9974 - val_loss: 0.0972 - val_acc: 0.9861\n",
      "Epoch 38/50\n",
      "30240/30240 [==============================] - 43s 1ms/step - loss: 0.0090 - acc: 0.9976 - val_loss: 0.0815 - val_acc: 0.9893\n",
      "Epoch 39/50\n",
      "30240/30240 [==============================] - 43s 1ms/step - loss: 0.0104 - acc: 0.9978 - val_loss: 0.0952 - val_acc: 0.9880\n",
      "Epoch 40/50\n",
      "30240/30240 [==============================] - 43s 1ms/step - loss: 0.0065 - acc: 0.9985 - val_loss: 0.0864 - val_acc: 0.9878\n",
      "Epoch 41/50\n",
      "30240/30240 [==============================] - 43s 1ms/step - loss: 0.0082 - acc: 0.9982 - val_loss: 0.0985 - val_acc: 0.9878\n",
      "Epoch 42/50\n",
      "30240/30240 [==============================] - 43s 1ms/step - loss: 0.0118 - acc: 0.9977 - val_loss: 0.0969 - val_acc: 0.9881\n",
      "Epoch 43/50\n",
      "30240/30240 [==============================] - 43s 1ms/step - loss: 0.0096 - acc: 0.9975 - val_loss: 0.0769 - val_acc: 0.9897\n",
      "Epoch 44/50\n",
      "30240/30240 [==============================] - 43s 1ms/step - loss: 0.0092 - acc: 0.9983 - val_loss: 0.0796 - val_acc: 0.9892\n",
      "Epoch 45/50\n",
      "30240/30240 [==============================] - 43s 1ms/step - loss: 0.0081 - acc: 0.9980 - val_loss: 0.0831 - val_acc: 0.9878\n",
      "Epoch 46/50\n",
      "30240/30240 [==============================] - 43s 1ms/step - loss: 0.0074 - acc: 0.9983 - val_loss: 0.0991 - val_acc: 0.9878\n",
      "Epoch 47/50\n",
      "30240/30240 [==============================] - 43s 1ms/step - loss: 0.0122 - acc: 0.9973 - val_loss: 0.1222 - val_acc: 0.9836\n",
      "Epoch 48/50\n",
      "30240/30240 [==============================] - 43s 1ms/step - loss: 0.0081 - acc: 0.9981 - val_loss: 0.0885 - val_acc: 0.9888\n",
      "Epoch 49/50\n",
      "30240/30240 [==============================] - 43s 1ms/step - loss: 0.0076 - acc: 0.9984 - val_loss: 0.1022 - val_acc: 0.9870\n",
      "Epoch 50/50\n",
      "30240/30240 [==============================] - 43s 1ms/step - loss: 0.0081 - acc: 0.9980 - val_loss: 0.0872 - val_acc: 0.9892\n"
     ]
    }
   ],
   "source": [
    "history = model.fit(newTrainImagesX, newTrainLabelsY, epochs=50, validation_split=0.2, shuffle=True)"
   ]
  },
  {
   "cell_type": "code",
   "execution_count": 19,
   "metadata": {},
   "outputs": [],
   "source": [
    "#now to get more insight, the training-validation accuracy and error graph can be visualized\n",
    "trainAcc = history.history['acc']\n",
    "validAcc = history.history['val_acc']\n",
    "trainErr = history.history['loss']\n",
    "validErr = history.history['val_loss']"
   ]
  },
  {
   "cell_type": "code",
   "execution_count": 20,
   "metadata": {},
   "outputs": [
    {
     "data": {
      "image/png": "[encoded data removed]",
      "text/plain": [
       "<Figure size 576x432 with 1 Axes>"
      ]
     },
     "metadata": {
      "needs_background": "light"
     },
     "output_type": "display_data"
    },
    {
     "data": {
      "image/png": "[encoded data removed]",
      "text/plain": [
       "<Figure size 576x432 with 1 Axes>"
      ]
     },
     "metadata": {
      "needs_background": "light"
     },
     "output_type": "display_data"
    }
   ],
   "source": [
    "#plot the figures\n",
    "plt.figure(0)\n",
    "plt.plot(trainAcc,'r')\n",
    "plt.plot(validAcc,'g')\n",
    "plt.xticks(np.arange(0, len(trainAcc),2.0))\n",
    "plt.rcParams['figure.figsize']=(8,6)\n",
    "plt.xlabel(\"Num of Epochs\")\n",
    "plt.ylabel(\"Accuracy\")\n",
    "plt.title(\"Training Accuracy vs Validation Accuracy\")\n",
    "plt.legend(['train','validation']) \n",
    "\n",
    "plt.figure(1)\n",
    "plt.plot(trainErr,'r') \n",
    "plt.plot(validErr,'g') \n",
    "plt.xticks(np.arange(0, len(trainAcc), 2.0)) \n",
    "plt.rcParams['figure.figsize'] = (8, 6) \n",
    "plt.xlabel(\"Num of Epochs\") \n",
    "plt.ylabel(\"Loss\") \n",
    "plt.title(\"Training Loss vs Validation Loss\")\n",
    "plt.legend(['train','validation']) \n",
    "plt.show()"
   ]
  },
  {
   "cell_type": "code",
   "execution_count": 16,
   "metadata": {},
   "outputs": [
    {
     "name": "stdout",
     "output_type": "stream",
     "text": [
      "[[416   0   0   1   0   0   2   2   1   0]\n",
      " [  0 471   1   0   0   0   0   0   1   0]\n",
      " [  1   0 404   1   0   0   0   1   1   1]\n",
      " [  0   0   2 419   0   3   0   1   1   0]\n",
      " [  0   1   0   0 425   0   1   0   0   2]\n",
      " [  0   0   0   0   0 380   2   0   0   0]\n",
      " [  0   1   0   0   0   0 411   0   0   0]\n",
      " [  0   2   5   1   0   0   0 460   0   1]\n",
      " [  0   2   0   1   0   1   2   0 378   0]\n",
      " [  1   1   0   2   3   0   0   0   1 386]]\n"
     ]
    }
   ],
   "source": [
    "y_hat = model.predict(validationImagesX)\n",
    "y_pred = np.argmax(y_hat, axis=1)\n",
    "y_true = np.argmax(validationLabelsY, axis=1)\n",
    "cm = confusion_matrix(y_true, y_pred)\n",
    "print(cm)"
   ]
  },
  {
   "cell_type": "code",
   "execution_count": 17,
   "metadata": {},
   "outputs": [],
   "source": [
    "#predict the results given the test images\n",
    "results = model.predict(testImages)"
   ]
  },
  {
   "cell_type": "code",
   "execution_count": 18,
   "metadata": {},
   "outputs": [],
   "source": [
    "#creating the csv\n",
    "results = np.argmax(results, axis=1)\n",
    "results = pd.Series(results,name=\"Label\")\n",
    "\n",
    "submission = pd.concat([pd.Series(range(1,28001),name = \"ImageId\"),results],axis = 1)\n",
    "submission.to_csv(\"digitRecog2.csv\",index=False)"
   ]
  },
  {
   "cell_type": "code",
   "execution_count": null,
   "metadata": {},
   "outputs": [],
   "source": []
  }
 ],
 "metadata": {
  "kernelspec": {
   "display_name": "Python 3",
   "language": "python",
   "name": "python3"
  },
  "language_info": {
   "codemirror_mode": {
    "name": "ipython",
    "version": 3
   },
   "file_extension": ".py",
   "mimetype": "text/x-python",
   "name": "python",
   "nbconvert_exporter": "python",
   "pygments_lexer": "ipython3",
   "version": "3.6.8"
  }
 },
 "nbformat": 4,
 "nbformat_minor": 2
}
